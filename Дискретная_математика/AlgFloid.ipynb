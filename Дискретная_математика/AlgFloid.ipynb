{
 "cells": [
  {
   "cell_type": "code",
   "execution_count": 10,
   "metadata": {},
   "outputs": [],
   "source": [
    "Inf = 9999999999999\n",
    "graph = [\n",
    "    [-1,4,5,Inf,Inf],\n",
    "    [4,-1,1,Inf,Inf],\n",
    "    [5,1,-1,7,Inf],\n",
    "    [Inf,Inf,7,-1,10],\n",
    "    [Inf,Inf,Inf,10,-1],\n",
    "]"
   ]
  },
  {
   "cell_type": "code",
   "execution_count": 8,
   "metadata": {},
   "outputs": [],
   "source": [
    "def AlgFloid(graph):\n",
    "    V = len(graph)\n",
    "    for i in range(V):\n",
    "        for j in range(V):\n",
    "            for k in range(V):\n",
    "                if (graph[i][j] + graph[j][k] < graph[i][k]) and i != j and i != k and j!=k:\n",
    "                    graph[i][k] = graph[i][j] + graph[j][k]\n",
    "    return graph"
   ]
  }
 ],
 "metadata": {
  "kernelspec": {
   "display_name": "env",
   "language": "python",
   "name": "python3"
  },
  "language_info": {
   "codemirror_mode": {
    "name": "ipython",
    "version": 3
   },
   "file_extension": ".py",
   "mimetype": "text/x-python",
   "name": "python",
   "nbconvert_exporter": "python",
   "pygments_lexer": "ipython3",
   "version": "3.12.3"
  }
 },
 "nbformat": 4,
 "nbformat_minor": 2
}
