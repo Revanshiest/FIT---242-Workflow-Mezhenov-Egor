{
 "cells": [
  {
   "cell_type": "code",
   "execution_count": 15,
   "metadata": {},
   "outputs": [],
   "source": [
    "Inf = 9999999999999\n",
    "graph = [\n",
    "    [Inf,4,5,Inf,Inf],\n",
    "    [4,Inf,1,Inf,Inf],\n",
    "    [5,1,Inf,7,Inf],\n",
    "    [Inf,Inf,7,Inf,10],\n",
    "    [Inf,Inf,Inf,10,Inf],\n",
    "]"
   ]
  },
  {
   "cell_type": "code",
   "execution_count": null,
   "metadata": {},
   "outputs": [],
   "source": [
    "def AlgDeijkstra(graph, start, finish):\n",
    "    INF = 99999999999\n",
    "    V = len(graph)\n",
    "    VisitedVersch = [0]*V\n",
    "    LengthToVersch = []\n",
    "    LengthToVersch = [INF] * V\n",
    "    LengthToVersch[start] = 0\n",
    "    for _ in range(V-1):\n",
    "        R = INF\n",
    "        k = -1\n",
    "        for i in range(V):\n",
    "            if not VisitedVersch[i] and LengthToVersch[i] < R:\n",
    "                R = LengthToVersch[i]\n",
    "                k = i\n",
    "        VisitedVersch[k] = 1\n",
    "        if k == finish:\n",
    "            return LengthToVersch[finish]\n",
    "        for j in range(V):\n",
    "            if LengthToVersch[j] > R + graph[k][j]:\n",
    "                LengthToVersch[j] = R + graph[k][j]\n",
    "        VisitedVersch[k] = 1\n",
    "    return LengthToVersch[finish]"
   ]
  }
 ],
 "metadata": {
  "kernelspec": {
   "display_name": "env",
   "language": "python",
   "name": "python3"
  },
  "language_info": {
   "codemirror_mode": {
    "name": "ipython",
    "version": 3
   },
   "file_extension": ".py",
   "mimetype": "text/x-python",
   "name": "python",
   "nbconvert_exporter": "python",
   "pygments_lexer": "ipython3",
   "version": "3.12.3"
  }
 },
 "nbformat": 4,
 "nbformat_minor": 2
}
