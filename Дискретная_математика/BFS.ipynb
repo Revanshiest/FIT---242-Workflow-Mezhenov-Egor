{
 "cells": [
  {
   "cell_type": "code",
   "execution_count": 3,
   "metadata": {},
   "outputs": [],
   "source": [
    "graph = [\n",
    "    [0,1,1,0,0],\n",
    "    [1,0,1,0,0],\n",
    "    [1,1,0,0,0],\n",
    "    [0,0,0,0,1],\n",
    "    [0,0,0,1,0],\n",
    "]"
   ]
  },
  {
   "cell_type": "code",
   "execution_count": 7,
   "metadata": {},
   "outputs": [],
   "source": [
    "def Prov(target, list):\n",
    "    if len(list) > 0:\n",
    "        found = False\n",
    "        for sublist in list:\n",
    "            if target in sublist:\n",
    "                found = True\n",
    "                break\n",
    "        return found"
   ]
  },
  {
   "cell_type": "code",
   "execution_count": 24,
   "metadata": {},
   "outputs": [],
   "source": [
    "def BFS(graph):\n",
    "    versch = len(graph)\n",
    "    spisok=[]\n",
    "    for i in range(versch):       \n",
    "        if not Prov(i,spisok):\n",
    "            komponenta=[i]\n",
    "            queue=[i]\n",
    "            while queue:\n",
    "                for j in range(versch):\n",
    "                    if (graph[queue[0]][j] == 1) and j not in komponenta:\n",
    "                        queue.append(j)\n",
    "                        komponenta.append(j)\n",
    "                queue.pop(0)\n",
    "            spisok.append(komponenta)\n",
    "    return spisok\n"
   ]
  },
  {
   "cell_type": "code",
   "execution_count": 25,
   "metadata": {},
   "outputs": [],
   "source": [
    "v = BFS(graph)"
   ]
  },
  {
   "cell_type": "code",
   "execution_count": 26,
   "metadata": {},
   "outputs": [
    {
     "name": "stdout",
     "output_type": "stream",
     "text": [
      "[[0, 1, 2], [3, 4]] результат\n"
     ]
    }
   ],
   "source": [
    "print(v, \"результат\")"
   ]
  }
 ],
 "metadata": {
  "kernelspec": {
   "display_name": "env",
   "language": "python",
   "name": "python3"
  },
  "language_info": {
   "codemirror_mode": {
    "name": "ipython",
    "version": 3
   },
   "file_extension": ".py",
   "mimetype": "text/x-python",
   "name": "python",
   "nbconvert_exporter": "python",
   "pygments_lexer": "ipython3",
   "version": "3.12.3"
  }
 },
 "nbformat": 4,
 "nbformat_minor": 2
}
