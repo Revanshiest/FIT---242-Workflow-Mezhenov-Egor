{
 "cells": [
  {
   "cell_type": "code",
   "execution_count": 2,
   "metadata": {},
   "outputs": [],
   "source": [
    "graph = [\n",
    "    [0,4,5,0,0],\n",
    "    [4,0,1,0,0],\n",
    "    [5,1,0,7,0],\n",
    "    [0,0,7,0,10],\n",
    "    [0,0,0,10,0],\n",
    "]"
   ]
  },
  {
   "cell_type": "code",
   "execution_count": 3,
   "metadata": {},
   "outputs": [],
   "source": [
    "V = len(graph)"
   ]
  },
  {
   "cell_type": "code",
   "execution_count": 4,
   "metadata": {},
   "outputs": [],
   "source": [
    "def getRebra(graph):\n",
    "    a = []\n",
    "    for i in range(len(graph)):\n",
    "        for j in range(len(graph)):\n",
    "            if graph[i][j] > 0 and [j,i,graph[i][j]] not in a:\n",
    "                a.append([i,j, graph[i][j]])\n",
    "    return a"
   ]
  },
  {
   "cell_type": "code",
   "execution_count": 5,
   "metadata": {},
   "outputs": [],
   "source": [
    "def AlgKruskal(graph):\n",
    "    OstTree = []\n",
    "    Rebra = getRebra(graph)\n",
    "    Rebra.sort(key=lambda x: x[2])\n",
    "    Komponenta_in_Alg = []\n",
    "    for i in range(V):\n",
    "        Komponenta_in_Alg.append(i)\n",
    "    while len(OstTree) < V - 1:\n",
    "        while Rebra:\n",
    "            Rebro = Rebra[0]\n",
    "            if Komponenta_in_Alg[Rebro[0]] != Komponenta_in_Alg[Rebro[1]]:\n",
    "                Old = Komponenta_in_Alg[Rebro[1]]\n",
    "                OstTree.append(Rebro)\n",
    "                New = Komponenta_in_Alg[Rebro[0]]\n",
    "                for i in range(V):\n",
    "                    if Komponenta_in_Alg[i] == Old:\n",
    "                        Komponenta_in_Alg[i] = New\n",
    "            Rebra.pop(0)\n",
    "    return OstTree"
   ]
  }
 ],
 "metadata": {
  "kernelspec": {
   "display_name": "env",
   "language": "python",
   "name": "python3"
  },
  "language_info": {
   "codemirror_mode": {
    "name": "ipython",
    "version": 3
   },
   "file_extension": ".py",
   "mimetype": "text/x-python",
   "name": "python",
   "nbconvert_exporter": "python",
   "pygments_lexer": "ipython3",
   "version": "3.12.3"
  }
 },
 "nbformat": 4,
 "nbformat_minor": 2
}
