{
 "cells": [
  {
   "cell_type": "code",
   "execution_count": 55,
   "metadata": {},
   "outputs": [],
   "source": [
    "INF = 9999999"
   ]
  },
  {
   "cell_type": "code",
   "execution_count": 47,
   "metadata": {},
   "outputs": [],
   "source": [
    "graph = [\n",
    "    [0,4,5,0,0],\n",
    "    [4,0,1,0,0],\n",
    "    [5,1,0,7,0],\n",
    "    [0,0,7,0,10],\n",
    "    [0,0,0,10,0],\n",
    "]"
   ]
  },
  {
   "cell_type": "code",
   "execution_count": null,
   "metadata": {},
   "outputs": [],
   "source": [
    "def AlgPrima(graph):\n",
    "    V = len(graph)\n",
    "    selversch=[]\n",
    "    for i in range(V):\n",
    "        selversch.append(0)\n",
    "    setreber=[]\n",
    "    selversch[0] = 1\n",
    "    for _ in range(V-1):\n",
    "        minimum = 99999999999\n",
    "        x = 0\n",
    "        y = 0\n",
    "        for i in range(V):\n",
    "            if selversch[i] == 1:\n",
    "                for j in range(V):\n",
    "                    if ((selversch[j] == 0) and graph[i][j]!=0):\n",
    "                        if minimum > graph[i][j]:\n",
    "                            minimum = graph[i][j]\n",
    "                            x = i\n",
    "                            y = j\n",
    "        setreber.append([x,y, minimum])\n",
    "        selversch[y] = 1\n",
    "    return setreber"
   ]
  },
  {
   "cell_type": "code",
   "execution_count": null,
   "metadata": {},
   "outputs": [
    {
     "name": "stdout",
     "output_type": "stream",
     "text": [
      "4\n",
      "5\n",
      "1\n",
      "7\n",
      "10\n",
      "[[0, 1, 4], [1, 2, 1], [2, 3, 7], [3, 4, 10]]\n"
     ]
    }
   ],
   "source": [
    "print(AlgPrima(graph))"
   ]
  }
 ],
 "metadata": {
  "kernelspec": {
   "display_name": "env",
   "language": "python",
   "name": "python3"
  },
  "language_info": {
   "codemirror_mode": {
    "name": "ipython",
    "version": 3
   },
   "file_extension": ".py",
   "mimetype": "text/x-python",
   "name": "python",
   "nbconvert_exporter": "python",
   "pygments_lexer": "ipython3",
   "version": "3.12.3"
  }
 },
 "nbformat": 4,
 "nbformat_minor": 2
}
